{
  "nbformat": 4,
  "nbformat_minor": 0,
  "metadata": {
    "colab": {
      "name": "BagofWordsExamples.ipynb",
      "provenance": [],
      "authorship_tag": "ABX9TyPulM+bu5GTU9REyLNMIlua",
      "include_colab_link": true
    },
    "kernelspec": {
      "name": "python3",
      "display_name": "Python 3"
    }
  },
  "cells": [
    {
      "cell_type": "markdown",
      "metadata": {
        "id": "view-in-github",
        "colab_type": "text"
      },
      "source": [
        "<a href=\"https://colab.research.google.com/github/tomasward/BoW/blob/master/BagofWordsExamples.ipynb\" target=\"_parent\"><img src=\"https://colab.research.google.com/assets/colab-badge.svg\" alt=\"Open In Colab\"/></a>"
      ]
    },
    {
      "cell_type": "markdown",
      "metadata": {
        "id": "WkEICUHmVHrQ",
        "colab_type": "text"
      },
      "source": [
        "# Imports"
      ]
    },
    {
      "cell_type": "code",
      "metadata": {
        "id": "ZnlvWD68Uuj_",
        "colab_type": "code",
        "colab": {}
      },
      "source": [
        "# Load library\n",
        "import numpy as np\n",
        "from sklearn.feature_extraction.text import CountVectorizer\n",
        "import pandas as pd"
      ],
      "execution_count": 0,
      "outputs": []
    },
    {
      "cell_type": "markdown",
      "metadata": {
        "id": "rsRBjSaZVO_d",
        "colab_type": "text"
      },
      "source": [
        "# Text Input\n",
        "Creation of some text to play with"
      ]
    },
    {
      "cell_type": "code",
      "metadata": {
        "id": "lecSf6q3Ugz7",
        "colab_type": "code",
        "colab": {}
      },
      "source": [
        "# Create text\n",
        "text_data = np.array(['I love Exams. Exams I love !',\n",
        "                      'Do you love quizes? I love them too',\n",
        "                      'Assignments? I love them most.'])"
      ],
      "execution_count": 0,
      "outputs": []
    },
    {
      "cell_type": "markdown",
      "metadata": {
        "id": "S_aAZpG1VW6O",
        "colab_type": "text"
      },
      "source": [
        "# Create the BoW Feature"
      ]
    },
    {
      "cell_type": "code",
      "metadata": {
        "id": "05jWuOMNUz5t",
        "colab_type": "code",
        "colab": {
          "base_uri": "https://localhost:8080/",
          "height": 68
        },
        "outputId": "d08d353c-ce81-460c-831e-61e72c0d2785"
      },
      "source": [
        "# Create the bag of words feature matrix\n",
        "count = CountVectorizer()\n",
        "bag_of_words = count.fit_transform(text_data)\n",
        "\n",
        "# Show feature matrix\n",
        "bag_of_words.toarray()"
      ],
      "execution_count": 25,
      "outputs": [
        {
          "output_type": "execute_result",
          "data": {
            "text/plain": [
              "array([[0, 0, 2, 2, 0, 0, 0, 0, 0],\n",
              "       [0, 1, 0, 2, 0, 1, 1, 1, 1],\n",
              "       [1, 0, 0, 1, 1, 0, 1, 0, 0]])"
            ]
          },
          "metadata": {
            "tags": []
          },
          "execution_count": 25
        }
      ]
    },
    {
      "cell_type": "markdown",
      "metadata": {
        "id": "bLJvDFk2ViOS",
        "colab_type": "text"
      },
      "source": [
        "# View Bag Of Words Matrix Column Headers"
      ]
    },
    {
      "cell_type": "code",
      "metadata": {
        "id": "Mqmp2ZaMVAEo",
        "colab_type": "code",
        "colab": {
          "base_uri": "https://localhost:8080/",
          "height": 34
        },
        "outputId": "c87cdb79-1643-4295-cde5-d6be05f92f6d"
      },
      "source": [
        "# Get feature names\n",
        "feature_names = count.get_feature_names()\n",
        "\n",
        "# View feature names\n",
        "feature_names"
      ],
      "execution_count": 26,
      "outputs": [
        {
          "output_type": "execute_result",
          "data": {
            "text/plain": [
              "['assignments', 'do', 'exams', 'love', 'most', 'quizes', 'them', 'too', 'you']"
            ]
          },
          "metadata": {
            "tags": []
          },
          "execution_count": 26
        }
      ]
    },
    {
      "cell_type": "markdown",
      "metadata": {
        "id": "aV942jVVVn29",
        "colab_type": "text"
      },
      "source": [
        "# View As A Data Frame"
      ]
    },
    {
      "cell_type": "code",
      "metadata": {
        "id": "8n_p8m5sVFgz",
        "colab_type": "code",
        "colab": {
          "base_uri": "https://localhost:8080/",
          "height": 142
        },
        "outputId": "888eab56-41d3-4525-ca9e-a7b6724e9de0"
      },
      "source": [
        "# Create data frame\n",
        "pd.DataFrame(bag_of_words.toarray(), columns=feature_names)"
      ],
      "execution_count": 27,
      "outputs": [
        {
          "output_type": "execute_result",
          "data": {
            "text/html": [
              "<div>\n",
              "<style scoped>\n",
              "    .dataframe tbody tr th:only-of-type {\n",
              "        vertical-align: middle;\n",
              "    }\n",
              "\n",
              "    .dataframe tbody tr th {\n",
              "        vertical-align: top;\n",
              "    }\n",
              "\n",
              "    .dataframe thead th {\n",
              "        text-align: right;\n",
              "    }\n",
              "</style>\n",
              "<table border=\"1\" class=\"dataframe\">\n",
              "  <thead>\n",
              "    <tr style=\"text-align: right;\">\n",
              "      <th></th>\n",
              "      <th>assignments</th>\n",
              "      <th>do</th>\n",
              "      <th>exams</th>\n",
              "      <th>love</th>\n",
              "      <th>most</th>\n",
              "      <th>quizes</th>\n",
              "      <th>them</th>\n",
              "      <th>too</th>\n",
              "      <th>you</th>\n",
              "    </tr>\n",
              "  </thead>\n",
              "  <tbody>\n",
              "    <tr>\n",
              "      <th>0</th>\n",
              "      <td>0</td>\n",
              "      <td>0</td>\n",
              "      <td>2</td>\n",
              "      <td>2</td>\n",
              "      <td>0</td>\n",
              "      <td>0</td>\n",
              "      <td>0</td>\n",
              "      <td>0</td>\n",
              "      <td>0</td>\n",
              "    </tr>\n",
              "    <tr>\n",
              "      <th>1</th>\n",
              "      <td>0</td>\n",
              "      <td>1</td>\n",
              "      <td>0</td>\n",
              "      <td>2</td>\n",
              "      <td>0</td>\n",
              "      <td>1</td>\n",
              "      <td>1</td>\n",
              "      <td>1</td>\n",
              "      <td>1</td>\n",
              "    </tr>\n",
              "    <tr>\n",
              "      <th>2</th>\n",
              "      <td>1</td>\n",
              "      <td>0</td>\n",
              "      <td>0</td>\n",
              "      <td>1</td>\n",
              "      <td>1</td>\n",
              "      <td>0</td>\n",
              "      <td>1</td>\n",
              "      <td>0</td>\n",
              "      <td>0</td>\n",
              "    </tr>\n",
              "  </tbody>\n",
              "</table>\n",
              "</div>"
            ],
            "text/plain": [
              "   assignments  do  exams  love  most  quizes  them  too  you\n",
              "0            0   0      2     2     0       0     0    0    0\n",
              "1            0   1      0     2     0       1     1    1    1\n",
              "2            1   0      0     1     1       0     1    0    0"
            ]
          },
          "metadata": {
            "tags": []
          },
          "execution_count": 27
        }
      ]
    }
  ]
}