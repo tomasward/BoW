{
  "nbformat": 4,
  "nbformat_minor": 0,
  "metadata": {
    "colab": {
      "name": "BagofWordsExamples.ipynb",
      "provenance": [],
      "authorship_tag": "ABX9TyMtqp9IndDGrJQMFGAWALEr",
      "include_colab_link": true
    },
    "kernelspec": {
      "name": "python3",
      "display_name": "Python 3"
    }
  },
  "cells": [
    {
      "cell_type": "markdown",
      "metadata": {
        "id": "view-in-github",
        "colab_type": "text"
      },
      "source": [
        "<a href=\"https://colab.research.google.com/github/tomasward/BoW/blob/master/BagofWordsExamples.ipynb\" target=\"_parent\"><img src=\"https://colab.research.google.com/assets/colab-badge.svg\" alt=\"Open In Colab\"/></a>"
      ]
    },
    {
      "cell_type": "markdown",
      "metadata": {
        "id": "WkEICUHmVHrQ",
        "colab_type": "text"
      },
      "source": [
        "# Imports"
      ]
    },
    {
      "cell_type": "code",
      "metadata": {
        "id": "ZnlvWD68Uuj_",
        "colab_type": "code",
        "colab": {}
      },
      "source": [
        "# Load library\n",
        "import numpy as np\n",
        "from sklearn.feature_extraction.text import CountVectorizer\n",
        "import pandas as pd"
      ],
      "execution_count": 0,
      "outputs": []
    },
    {
      "cell_type": "markdown",
      "metadata": {
        "id": "rsRBjSaZVO_d",
        "colab_type": "text"
      },
      "source": [
        "# Text Input\n",
        "Creation of some text to play with"
      ]
    },
    {
      "cell_type": "code",
      "metadata": {
        "id": "lecSf6q3Ugz7",
        "colab_type": "code",
        "colab": {}
      },
      "source": [
        "# Create text\n",
        "text_data = np.array(['I love Brazil. Brazil!',\n",
        "                      'Sweden is best',\n",
        "                      'Germany beats both'])"
      ],
      "execution_count": 0,
      "outputs": []
    },
    {
      "cell_type": "markdown",
      "metadata": {
        "id": "S_aAZpG1VW6O",
        "colab_type": "text"
      },
      "source": [
        "# Create the BoW Feature"
      ]
    },
    {
      "cell_type": "code",
      "metadata": {
        "id": "05jWuOMNUz5t",
        "colab_type": "code",
        "colab": {
          "base_uri": "https://localhost:8080/",
          "height": 68
        },
        "outputId": "7389d923-c234-43dc-8a4e-9a4f9f8a8887"
      },
      "source": [
        "# Create the bag of words feature matrix\n",
        "count = CountVectorizer()\n",
        "bag_of_words = count.fit_transform(text_data)\n",
        "\n",
        "# Show feature matrix\n",
        "bag_of_words.toarray()"
      ],
      "execution_count": 14,
      "outputs": [
        {
          "output_type": "execute_result",
          "data": {
            "text/plain": [
              "array([[0, 0, 0, 2, 0, 0, 1, 0],\n",
              "       [0, 1, 0, 0, 0, 1, 0, 1],\n",
              "       [1, 0, 1, 0, 1, 0, 0, 0]])"
            ]
          },
          "metadata": {
            "tags": []
          },
          "execution_count": 14
        }
      ]
    },
    {
      "cell_type": "markdown",
      "metadata": {
        "id": "bLJvDFk2ViOS",
        "colab_type": "text"
      },
      "source": [
        "# View Bag Of Words Matrix Column Headers"
      ]
    },
    {
      "cell_type": "code",
      "metadata": {
        "id": "Mqmp2ZaMVAEo",
        "colab_type": "code",
        "colab": {
          "base_uri": "https://localhost:8080/",
          "height": 34
        },
        "outputId": "e68b8d97-ae68-4072-ae9a-fcc323b744a9"
      },
      "source": [
        "# Get feature names\n",
        "feature_names = count.get_feature_names()\n",
        "\n",
        "# View feature names\n",
        "feature_names"
      ],
      "execution_count": 15,
      "outputs": [
        {
          "output_type": "execute_result",
          "data": {
            "text/plain": [
              "['beats', 'best', 'both', 'brazil', 'germany', 'is', 'love', 'sweden']"
            ]
          },
          "metadata": {
            "tags": []
          },
          "execution_count": 15
        }
      ]
    },
    {
      "cell_type": "markdown",
      "metadata": {
        "id": "aV942jVVVn29",
        "colab_type": "text"
      },
      "source": [
        "# View As A Data Frame"
      ]
    },
    {
      "cell_type": "code",
      "metadata": {
        "id": "8n_p8m5sVFgz",
        "colab_type": "code",
        "colab": {
          "base_uri": "https://localhost:8080/",
          "height": 142
        },
        "outputId": "f0ec9614-d981-431f-bb89-aa07f1729c96"
      },
      "source": [
        "# Create data frame\n",
        "pd.DataFrame(bag_of_words.toarray(), columns=feature_names)"
      ],
      "execution_count": 16,
      "outputs": [
        {
          "output_type": "execute_result",
          "data": {
            "text/html": [
              "<div>\n",
              "<style scoped>\n",
              "    .dataframe tbody tr th:only-of-type {\n",
              "        vertical-align: middle;\n",
              "    }\n",
              "\n",
              "    .dataframe tbody tr th {\n",
              "        vertical-align: top;\n",
              "    }\n",
              "\n",
              "    .dataframe thead th {\n",
              "        text-align: right;\n",
              "    }\n",
              "</style>\n",
              "<table border=\"1\" class=\"dataframe\">\n",
              "  <thead>\n",
              "    <tr style=\"text-align: right;\">\n",
              "      <th></th>\n",
              "      <th>beats</th>\n",
              "      <th>best</th>\n",
              "      <th>both</th>\n",
              "      <th>brazil</th>\n",
              "      <th>germany</th>\n",
              "      <th>is</th>\n",
              "      <th>love</th>\n",
              "      <th>sweden</th>\n",
              "    </tr>\n",
              "  </thead>\n",
              "  <tbody>\n",
              "    <tr>\n",
              "      <th>0</th>\n",
              "      <td>0</td>\n",
              "      <td>0</td>\n",
              "      <td>0</td>\n",
              "      <td>2</td>\n",
              "      <td>0</td>\n",
              "      <td>0</td>\n",
              "      <td>1</td>\n",
              "      <td>0</td>\n",
              "    </tr>\n",
              "    <tr>\n",
              "      <th>1</th>\n",
              "      <td>0</td>\n",
              "      <td>1</td>\n",
              "      <td>0</td>\n",
              "      <td>0</td>\n",
              "      <td>0</td>\n",
              "      <td>1</td>\n",
              "      <td>0</td>\n",
              "      <td>1</td>\n",
              "    </tr>\n",
              "    <tr>\n",
              "      <th>2</th>\n",
              "      <td>1</td>\n",
              "      <td>0</td>\n",
              "      <td>1</td>\n",
              "      <td>0</td>\n",
              "      <td>1</td>\n",
              "      <td>0</td>\n",
              "      <td>0</td>\n",
              "      <td>0</td>\n",
              "    </tr>\n",
              "  </tbody>\n",
              "</table>\n",
              "</div>"
            ],
            "text/plain": [
              "   beats  best  both  brazil  germany  is  love  sweden\n",
              "0      0     0     0       2        0   0     1       0\n",
              "1      0     1     0       0        0   1     0       1\n",
              "2      1     0     1       0        1   0     0       0"
            ]
          },
          "metadata": {
            "tags": []
          },
          "execution_count": 16
        }
      ]
    }
  ]
}